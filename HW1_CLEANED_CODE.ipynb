{
 "cells": [
  {
   "cell_type": "markdown",
   "metadata": {},
   "source": [
    "# Optimization for Data Science 2024 Homework 1\n",
    "\n",
    "**Students:**\n",
    "\n",
    "*Alberto Calabrese* - Student ID: 2103405\n",
    "\n",
    "*Greta d'Amore Grelli* - Student ID: 2122424\n",
    "\n",
    "*Eleonora Mesaglio* - Student ID: 2103402\n",
    "\n",
    "*Marlon Helbing* - Student ID: 2106578"
   ]
  },
  {
   "cell_type": "markdown",
   "metadata": {},
   "source": [
    "## 1. Generating the dataset"
   ]
  },
  {
   "cell_type": "markdown",
   "metadata": {},
   "source": [
    "## Cost function "
   ]
  },
  {
   "cell_type": "code",
   "execution_count": 4,
   "metadata": {},
   "outputs": [],
   "source": [
    "import numpy as np\n",
    "\n",
    "# Set a seed for deterministic outputs\n",
    "SEED = 42\n",
    "np.random.seed(seed = SEED)"
   ]
  },
  {
   "cell_type": "code",
   "execution_count": 5,
   "metadata": {},
   "outputs": [
    {
     "name": "stdout",
     "output_type": "stream",
     "text": [
      "A shape:  (1000, 1000)\n",
      "X shape:  (1000, 50)\n",
      "E shape:  (1000, 50)\n",
      "AX+E shape:  (1000, 50)\n"
     ]
    }
   ],
   "source": [
    "NUM_SAMPLES = 1000\n",
    "NUM_FEATURES = 1000\n",
    "NUM_LABELS = 50\n",
    "NUM_EXAMPLES = 1000\n",
    "\n",
    "# A MATRIX\n",
    "# Generate a 1000x1000 matrix with random samples from a standard normal distribution\n",
    "# This is our data matrix, which contains 1000 samples (rows) with 1000 features each (columns)\n",
    "data_matrix = np.random.normal(0, 1, size = (NUM_SAMPLES, NUM_FEATURES))\n",
    "A = data_matrix \n",
    "# 'A' contains random values drawn from N(0,1)\n",
    "print(\"A shape: \", A.shape)\n",
    "\n",
    "# X MATRIX\n",
    "# This is our weight matrix that we initialize like this ; these weights we want to learn\n",
    "# it has 1000 features (rows) with 50 labels each (columns)\n",
    "weight_matrix = np.random.normal(0, 1, size = (NUM_FEATURES, NUM_LABELS))\n",
    "X = weight_matrix\n",
    "# 'X' contains random values drawn from N(0,1)\n",
    "print(\"X shape: \", X.shape)\n",
    "\n",
    "# E MATRIX\n",
    "# This matrix is used to help generating our supervised gold labels \n",
    "# It is of size 1000 training examples (rows) and their labels (columns)\n",
    "generative_matrix = np.random.normal(0, 1, size = (NUM_EXAMPLES, NUM_LABELS))\n",
    "E = generative_matrix\n",
    "# 'E' contains random values drawn from N(0,1)\n",
    "print(\"E shape: \", E.shape)\n",
    "\n",
    "# LABEL VECTOR\n",
    "# Create a vector with numbers from 1 to 50\n",
    "label_vector = np.arange(1, 51)\n",
    "\n",
    "# Now calculate AX+E to generate labels for the 1000 training examples (such that we have a supervised learning set) \n",
    "\n",
    "result_matrix = A @ X + E\n",
    "\n",
    "print(\"AX+E shape: \", result_matrix.shape)"
   ]
  },
  {
   "cell_type": "markdown",
   "metadata": {},
   "source": [
    "## 2. MAX INDEX AS CLASS LABEL"
   ]
  },
  {
   "cell_type": "code",
   "execution_count": 6,
   "metadata": {},
   "outputs": [
    {
     "name": "stdout",
     "output_type": "stream",
     "text": [
      "Labels shape:  (1000,)\n"
     ]
    }
   ],
   "source": [
    "# We find our labels by considering the max index in the row as the class label\n",
    "# Find the column indices of maximum values for each row\n",
    "labels = np.argmax(result_matrix, axis=1)\n",
    "print(\"Labels shape: \", labels.shape)\n",
    "\n",
    "# 'labels' now contains the column indices of maximum values for each row"
   ]
  },
  {
   "cell_type": "markdown",
   "metadata": {},
   "source": [
    "## 3. Cost function "
   ]
  },
  {
   "cell_type": "code",
   "execution_count": 7,
   "metadata": {},
   "outputs": [],
   "source": [
    "def cost_function(X,A):\n",
    "    # This function is ugly but just for testing if we did smth wrong\n",
    "    sum_1 = 0\n",
    "    for sample_idx in range(m):\n",
    "        # Take the column at index of the label of the current sample\n",
    "        x_bi = X[:, labels[sample_idx]]\n",
    "        x_bi = -1 * x_bi\n",
    "        a_i = A[sample_idx, :]\n",
    "        sum_1 += (x_bi @ a_i) # automatically calculates (1,1000) x (1000,1)\n",
    "    sum_2 = 0\n",
    "    for sample_idx in range(m):\n",
    "        current = 0 # so we have the correct start value\n",
    "        for label_idx in range(k):\n",
    "            current += np.exp((X[:,label_idx]) @ A[sample_idx,:])\n",
    "        sum_2 += np.log(current)\n",
    "\n",
    "    return sum_1 + sum_2"
   ]
  },
  {
   "cell_type": "markdown",
   "metadata": {},
   "source": [
    "## 4. Partial gradient"
   ]
  },
  {
   "cell_type": "code",
   "execution_count": 8,
   "metadata": {},
   "outputs": [],
   "source": [
    "m = NUM_SAMPLES # samples\n",
    "d = NUM_FEATURES # features\n",
    "k = NUM_LABELS   # labels\n",
    "\n",
    "def partial_gradient(X,c):\n",
    "    # We need X as parameter so it changes value across diff gradients\n",
    "\n",
    "    # We define the partial gradient\n",
    "    \n",
    "    # Calculating indicator vector L \n",
    "\n",
    "    # Initialize empty L in size of all samples (=1000)\n",
    "    L = np.zeros((m,1))\n",
    "\n",
    "    # Iterate over labels of each sample\n",
    "    for idx,label in enumerate(labels):\n",
    "        # If there is a label match\n",
    "        if label == c:\n",
    "            # We assign a 1\n",
    "            L[idx] = 1\n",
    "        # If there is no match\n",
    "        else:\n",
    "            # We assign a 0\n",
    "            L[idx] = 0\n",
    "\n",
    "    # Calculating vector Q\n",
    "    # Initialize empty Q in size of all samples (=1000)\n",
    "    \n",
    "    Q = np.zeros((m,1))\n",
    "\n",
    "    # Iterate over all samples\n",
    "    for curr_sample in range(m):\n",
    "    \n",
    "        nominator = np.exp((X[:,c]) @ (A[curr_sample,:]))\n",
    "    \n",
    "        denominator = 0\n",
    "        # Iterate over all labels for the denominator\n",
    "        for curr_label in range(k):\n",
    "            denominator += np.exp((X[:,curr_label]) @ A[curr_sample,:])\n",
    "    \n",
    "        Q[curr_sample] = nominator/denominator\n",
    "\n",
    "    return (np.dot(A.T, ((-1 * L) + Q))).squeeze() # returns (1000,)"
   ]
  },
  {
   "cell_type": "markdown",
   "metadata": {},
   "source": [
    "## 5. Full gradient"
   ]
  },
  {
   "cell_type": "code",
   "execution_count": 9,
   "metadata": {},
   "outputs": [],
   "source": [
    "def full_gradient(X):\n",
    "    # initialize zero gradient of size (m,)\n",
    "    grad = np.zeros(m)\n",
    "    for label in range(k):\n",
    "        grad = np.column_stack((grad, partial_gradient(X,label)))\n",
    "\n",
    "    return grad[:,1:] #remove 0 column"
   ]
  },
  {
   "cell_type": "markdown",
   "metadata": {},
   "source": [
    "## 6. Gradient Descent Algorithm"
   ]
  },
  {
   "cell_type": "code",
   "execution_count": 10,
   "metadata": {},
   "outputs": [
    {
     "name": "stdout",
     "output_type": "stream",
     "text": [
      "Loss at iteration 0 (SGD): 93.39358249529323\n",
      "Loss at iteration 1 (SGD): 50.34546642121859\n",
      "Loss at iteration 2 (SGD): 33.304713166086\n",
      "Loss at iteration 3 (SGD): 25.50676990255306\n",
      "Loss at iteration 4 (SGD): 21.07177647280332\n",
      "Loss at iteration 5 (SGD): 18.126710587210255\n",
      "Loss at iteration 6 (SGD): 15.994844491637195\n",
      "Loss at iteration 7 (SGD): 14.365630909174797\n",
      "Loss at iteration 8 (SGD): 13.072631806600839\n",
      "Loss at iteration 9 (SGD): 12.017302493768511\n",
      "Loss at iteration 10 (SGD): 11.137051623445586\n",
      "Loss at iteration 11 (SGD): 10.3899740959896\n",
      "Loss at iteration 12 (SGD): 9.746835194717278\n",
      "Loss at iteration 13 (SGD): 9.18655167974066\n",
      "Loss at iteration 14 (SGD): 8.693497239990393\n",
      "Loss at iteration 15 (SGD): 8.255820852849865\n",
      "Loss at iteration 16 (SGD): 7.864356796053471\n",
      "Loss at iteration 17 (SGD): 7.511895184536115\n",
      "Loss at iteration 18 (SGD): 7.192680202875636\n",
      "Loss at iteration 19 (SGD): 6.902056649967562\n",
      "Loss at iteration 20 (SGD): 6.636215703634662\n",
      "Loss at iteration 21 (SGD): 6.392008653390803\n",
      "Loss at iteration 22 (SGD): 6.166808163921814\n",
      "Loss at iteration 23 (SGD): 5.958403408032609\n",
      "Loss at iteration 24 (SGD): 5.764919738139724\n",
      "Loss at iteration 25 (SGD): 5.58475640884717\n",
      "Loss at iteration 26 (SGD): 5.416537758370396\n",
      "Loss at iteration 27 (SGD): 5.259074553425307\n",
      "Loss at iteration 28 (SGD): 5.111333099499461\n",
      "Loss at iteration 29 (SGD): 4.972410339687485\n",
      "Loss at iteration 30 (SGD): 4.841513628954999\n",
      "Loss at iteration 31 (SGD): 4.717944178701146\n",
      "Loss at iteration 32 (SGD): 4.601083416782785\n",
      "Loss at iteration 33 (SGD): 4.490381676485413\n",
      "Loss at iteration 34 (SGD): 4.385348761483328\n",
      "Loss at iteration 35 (SGD): 4.2855460291175405\n",
      "Loss at iteration 36 (SGD): 4.190579717498622\n",
      "Loss at iteration 37 (SGD): 4.10009528764931\n",
      "Loss at iteration 38 (SGD): 4.0137726090615615\n",
      "Loss at iteration 39 (SGD): 3.931321840005694\n",
      "Loss at iteration 40 (SGD): 3.8524798921280308\n",
      "Loss at iteration 41 (SGD): 3.777007380966097\n",
      "Loss at iteration 42 (SGD): 3.7046859884576406\n",
      "Loss at iteration 43 (SGD): 3.6353161714650923\n",
      "Loss at iteration 44 (SGD): 3.568715165311005\n",
      "Loss at iteration 45 (SGD): 3.5047152391343843\n",
      "Loss at iteration 46 (SGD): 3.4431621643161634\n",
      "Loss at iteration 47 (SGD): 3.383913870813558\n",
      "Loss at iteration 48 (SGD): 3.326839258079417\n",
      "Loss at iteration 49 (SGD): 3.2718171470914967\n"
     ]
    },
    {
     "data": {
      "image/png": "[encoded data removed]",
      "text/plain": [
       "<Figure size 1000x600 with 1 Axes>"
      ]
     },
     "metadata": {},
     "output_type": "display_data"
    },
    {
     "name": "stdout",
     "output_type": "stream",
     "text": [
      "1.0\n"
     ]
    }
   ],
   "source": [
    "import matplotlib.pyplot as plt\n",
    "\n",
    "X_0 = X\n",
    "gradient_norms = []\n",
    "for i in range(50): # number of iterations\n",
    "    print(f'Loss at iteration {i} (SGD): {cost_function(X_0, A)}')\n",
    "\n",
    "    # Gradient step\n",
    "\n",
    "    # Calculate current gradient\n",
    "    gradient_at_i = full_gradient(X_0)\n",
    "    # Calculate the norm\n",
    "    gradient_norms.append(np.linalg.norm(gradient_at_i))\n",
    "    # Gradient step\n",
    "    X_0 = X_0 - 0.001 * gradient_at_i\n",
    "\n",
    "# Create an array of iteration numbers\n",
    "iterations = np.arange(len(gradient_norms))\n",
    "\n",
    "# Create Gradient Norm Plot\n",
    "plt.figure(figsize=(10, 6))\n",
    "plt.plot(iterations, gradient_norms, label='Gradient Norm')\n",
    "plt.xlabel('Iteration')\n",
    "plt.ylabel('Gradient Norm')\n",
    "plt.title('Gradient Norm across Iterations')\n",
    "plt.legend()\n",
    "plt.grid(True)\n",
    "plt.show()\n",
    "\n",
    "# See how X_0 performs :\n",
    "\n",
    "result_matrix_descent = A @ X_0\n",
    "\n",
    "# Find the column indices of maximum values for each row\n",
    "labels_descent = np.argmax(result_matrix_descent, axis=1)\n",
    "\n",
    "equal_entries = labels == labels_descent\n",
    "\n",
    "# Count the number of True values (equal entries)\n",
    "num_equal_entries = np.sum(equal_entries)\n",
    "\n",
    "# Accuracy :\n",
    "accuracy = num_equal_entries / len(labels)\n",
    "\n",
    "print(accuracy)"
   ]
  },
  {
   "cell_type": "markdown",
   "metadata": {},
   "source": [
    "## 7. BCGD with Randomized Rule Algorithm\n",
    "We define as a block a single column in the parameter matrix $X$. Thus, one block defines all features for a single class. As this is a column vector in the matrix $X$, our partial gradient is now only dependent on $c$.\n",
    "\n",
    "Then, our partial derivatives with respect with one block have the following form\n",
    "\n",
    "\\begin{equation}\n",
    "\\frac{\\partial f(X)}{\\partial X_{c}} = - A^{T} \\cdot (I_c - Q_c) = A^{T} \\cdot (- I_c + Q_c)\n",
    "\\end{equation}\n",
    "\n",
    "\n",
    "where \n",
    "\n",
    "$A$ has shape $m \\times d$, it is our given matrix A;\n",
    "\\\n",
    "$I_c$ has shape $m \\times 1$, it is the indicator vector containing $1$'s only at the positions where the label of the current sample $i$ is $c$ and $0$'s everywhere else;\n",
    "$$\n",
    "I_c=\\begin{cases}\n",
    "\t\t\t1 \\quad & \\text{if $label_{i} = c $}\\\\\n",
    "            0 \\quad & \\text{otherwise}\n",
    "\t\t \\end{cases}\n",
    "$$\n",
    "\\\n",
    "$Q_c$ has shape $m \\times 1$, it is the vector calculating the exponential expression $\\dfrac{\\exp(x_{c}^{T}a_{i})}{\\sum_{c' = 1}^{k} \\exp(x_{c'}^{T}a_{i}) }$ for each sample $i$.\n",
    "\n",
    "Thus, our result will be of form $d \\times 1$.\n",
    "\n",
    "Note that the calculations needed for $I_c$ and $Q_c$ only depend on $c$ and $i$. However, as we know all the samples $i$, we construct the vectors $I_c$ and $Q_c$ which are then only dependent on $c$.\n",
    "\n"
   ]
  },
  {
   "cell_type": "markdown",
   "metadata": {},
   "source": [
    "## 8. BCGD Gauss-Southwell Algorithm"
   ]
  },
  {
   "cell_type": "code",
   "execution_count": 13,
   "metadata": {},
   "outputs": [],
   "source": [
    "# We have to calculate the partial gradient of each block\n",
    "# We calculate it in our partial_gradient function.\n",
    "# Thus, we have to iterate over all possible blocks , which in our case are class - many, so k many \n",
    "\n",
    "def Gauss_Southwell(X):\n",
    "\n",
    "    learning_rate = 0.01 # TODO : REPLACE BY LIPSCHITZ\n",
    "    X_0 = X\n",
    "    for it in range(20): # iterations\n",
    "        \n",
    "        all_partial_gradients = []\n",
    "        for label_idx in range(k): # k is number of all labels\n",
    "            # Calculate the partial gradient of each block\n",
    "            all_partial_gradients.append(partial_gradient(X_0,label_idx))\n",
    "\n",
    "        # Gradients will be of size (features,) so in our case (1000,) \n",
    "        all_partial_gradients_norms = [np.linalg.norm(curr_grad) for curr_grad in all_partial_gradients]\n",
    "\n",
    "        max_idx = np.argmax(all_partial_gradients_norms)\n",
    "   \n",
    "        partial_grad = all_partial_gradients[max_idx]\n",
    "\n",
    "        # Gradient Descent \n",
    "        print(f'Loss at iteration {it} (BCGD G.S.): {cost_function(X_0, A)}')\n",
    "        # Gradient step\n",
    "        X_0[:, max_idx] = X_0[:, max_idx] - learning_rate * partial_grad"
   ]
  },
  {
   "cell_type": "code",
   "execution_count": 14,
   "metadata": {},
   "outputs": [
    {
     "name": "stdout",
     "output_type": "stream",
     "text": [
      "Loss at iteration 0 (BCGD G.S.): 65.52651608068845\n",
      "Loss at iteration 1 (BCGD G.S.): 60.92264138897008\n",
      "Loss at iteration 2 (BCGD G.S.): 56.329917519076844\n",
      "Loss at iteration 3 (BCGD G.S.): 51.992821623105556\n",
      "Loss at iteration 4 (BCGD G.S.): 48.28754141960235\n",
      "Loss at iteration 5 (BCGD G.S.): 44.62679757393198\n",
      "Loss at iteration 6 (BCGD G.S.): 40.85854698084586\n",
      "Loss at iteration 7 (BCGD G.S.): 37.935139386710944\n",
      "Loss at iteration 8 (BCGD G.S.): 34.74116785499791\n",
      "Loss at iteration 9 (BCGD G.S.): 31.941589967056643\n",
      "Loss at iteration 10 (BCGD G.S.): 29.235876965452917\n",
      "Loss at iteration 11 (BCGD G.S.): 26.470587285381043\n",
      "Loss at iteration 12 (BCGD G.S.): 24.442809546046192\n",
      "Loss at iteration 13 (BCGD G.S.): 22.78453206596896\n",
      "Loss at iteration 14 (BCGD G.S.): 21.24839878171042\n",
      "Loss at iteration 15 (BCGD G.S.): 19.975802719665808\n",
      "Loss at iteration 16 (BCGD G.S.): 18.5650901003537\n",
      "Loss at iteration 17 (BCGD G.S.): 17.42407098748663\n",
      "Loss at iteration 18 (BCGD G.S.): 16.2608339603903\n",
      "Loss at iteration 19 (BCGD G.S.): 15.039646190882195\n"
     ]
    }
   ],
   "source": [
    "# Lest's see how it performs\n",
    "Gauss_Southwell(X)"
   ]
  },
  {
   "cell_type": "markdown",
   "metadata": {},
   "source": [
    "## 9. Real Dataset\n",
    "\n",
    "P. Cortez, A. Cerdeira, F. Almeida, T. Matos and J. Reis. \n",
    "\n",
    "Modeling wine preferences by data mining from physicochemical properties.\n",
    "\n",
    "In Decision Support Systems, Elsevier, 47(4):547-553. ISSN: 0167-9236.\n",
    "\n",
    "Available at: [@Elsevier] http://dx.doi.org/10.1016/j.dss.2009.05.016\n",
    "            [Pre-press (pdf)] http://www3.dsi.uminho.pt/pcortez/winequality09.pdf\n",
    "            [bib] http://www3.dsi.uminho.pt/pcortez/dss09.bib\n",
    "\n",
    "1. Title: Wine Quality \n",
    "\n",
    "2. Sources\n",
    "   \n",
    "   Created by: Paulo Cortez (Univ. Minho), Antonio Cerdeira, Fernando Almeida, Telmo Matos and Jose Reis (CVRVV) @ 2009\n",
    "\n",
    " \n",
    "3. Relevant Information:\n",
    "\n",
    "   The two datasets are related to red and white variants of the Portuguese \"Vinho Verde\" wine.\n",
    "   For more details, consult: http://www.vinhoverde.pt/en/ or the reference [Cortez et al., 2009].\n",
    "   Due to privacy and logistic issues, only physicochemical (inputs) and sensory (the output) variables \n",
    "   are available (e.g. there is no data about grape types, wine brand, wine selling price, etc.).\n",
    "\n",
    "   These datasets can be viewed as classification or regression tasks.\n",
    "   The classes are ordered and not balanced (e.g. there are munch more normal wines than\n",
    "   excellent or poor ones). Outlier detection algorithms could be used to detect the few excellent\n",
    "   or poor wines. Also, we are not sure if all input variables are relevant. So\n",
    "   it could be interesting to test feature selection methods. \n",
    "\n",
    "4. Number of Instances: red wine - 1599; white wine - 4898. \n",
    "\n",
    "5. Number of Attributes: 11 + output attribute\n",
    "  \n",
    "   Note: several of the attributes may be correlated, thus it makes sense to apply some sort of feature selection.\n",
    "\n",
    "6. Attribute information:\n",
    "\n",
    "   Input variables (based on physicochemical tests):\n",
    "\n",
    "      1 - fixed acidity\n",
    "      \n",
    "      2 - volatile acidity\n",
    "      \n",
    "      3 - citric acid\n",
    "      \n",
    "      4 - residual sugar\n",
    "      \n",
    "      5 - chlorides\n",
    "      \n",
    "      6 - free sulfur dioxide\n",
    "      \n",
    "      7 - total sulfur dioxide\n",
    "      \n",
    "      8 - density\n",
    "      \n",
    "      9 - pH\n",
    "      \n",
    "      10 - sulphates\n",
    "      \n",
    "      11 - alcohol\n",
    "   \n",
    "   Output variable (based on sensory data): \n",
    "   \n",
    "      12 - quality (score between 0 and 10)\n",
    "\n"
   ]
  },
  {
   "cell_type": "code",
   "execution_count": 3,
   "metadata": {},
   "outputs": [
    {
     "name": "stdout",
     "output_type": "stream",
     "text": [
      "6\n",
      "[3 4 5 6 7 8]\n",
      "11\n"
     ]
    }
   ],
   "source": [
    "import pandas as pd \n",
    "\n",
    "# Adjust the path to the location of the dataset on your machine -----------------\n",
    "data_red_wine = pd.read_csv('/Users/albertocalabrese99/Desktop/Optimization for Data Science/HW1/Data/winequality-red.csv', sep=';')\n",
    "data_white_wine = pd.read_csv('/Users/albertocalabrese99/Desktop/Optimization for Data Science/HW1/Data/winequality-white.csv', sep=';')\n",
    "\n",
    "# Let us define the labels from the dataset\n",
    "labels_red = np.array(data_red_wine['quality'])\n",
    "labels_white = np.array(data_red_wine['quality'])\n",
    "\n",
    "# Let us see how many unique labels we have in both datasets\n",
    "number_labels_red = np.unique(labels_red)\n",
    "number_labels_white = np.unique(labels_white)\n",
    "\n",
    "# Print the number of unique labels\n",
    "print(len(number_labels_red))\n",
    "print(number_labels_white)\n",
    "\n",
    "# In both we only have labels from 3 to 8 (6 classes)\n",
    "\n",
    "# Let us work on the red wine dataset\n",
    "# Data matrix A\n",
    "\n",
    "# Drop the quality column\n",
    "data_red_wine.drop('quality', axis=1, inplace=True)\n",
    "\n",
    "# Convert the data to a numpy array\n",
    "A = np.array(data_red_wine)\n",
    "\n",
    "print(A.shape[1])\n"
   ]
  }
 ],
 "metadata": {
  "kernelspec": {
   "display_name": "base",
   "language": "python",
   "name": "python3"
  },
  "language_info": {
   "codemirror_mode": {
    "name": "ipython",
    "version": 3
   },
   "file_extension": ".py",
   "mimetype": "text/x-python",
   "name": "python",
   "nbconvert_exporter": "python",
   "pygments_lexer": "ipython3",
   "version": "3.11.4"
  }
 },
 "nbformat": 4,
 "nbformat_minor": 2
}
